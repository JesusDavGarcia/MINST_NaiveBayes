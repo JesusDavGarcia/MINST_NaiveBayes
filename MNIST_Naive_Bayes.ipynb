{
  "nbformat": 4,
  "nbformat_minor": 0,
  "metadata": {
    "colab": {
      "provenance": [],
      "toc_visible": true,
      "authorship_tag": "ABX9TyPeJVTRn7zeebNHhFNYB0Lp",
      "include_colab_link": true
    },
    "kernelspec": {
      "name": "python3",
      "display_name": "Python 3"
    },
    "language_info": {
      "name": "python"
    }
  },
  "cells": [
    {
      "cell_type": "markdown",
      "metadata": {
        "id": "view-in-github",
        "colab_type": "text"
      },
      "source": [
        "<a href=\"https://colab.research.google.com/github/JesusDavGarcia/MNIST_NaiveBayes/blob/main/MNIST_Naive_Bayes.ipynb\" target=\"_parent\"><img src=\"https://colab.research.google.com/assets/colab-badge.svg\" alt=\"Open In Colab\"/></a>"
      ]
    },
    {
      "cell_type": "markdown",
      "source": [
        "# **MNIST Analysis Using Naive Bayes**\n",
        "\n",
        "---\n",
        "\n",
        "The purpose of this project is to Classify images of the MNIST database (*Modified National Institute of Standards and Technology*), which is made by a large dataset of handwritten digits that is commonly used for training various image processing systems, using a Naive Bayes Classifier algorithm.\n"
      ],
      "metadata": {
        "id": "Q0Jp3lqi3HFz"
      }
    },
    {
      "cell_type": "markdown",
      "source": [
        "## Load the Data\n",
        "\n",
        "We have to first load the images of the MNIST database. Each image in this dataset is a 28 x 28 pixel grayscale image. Each pixel has a integer in the range [0, 255], where 0 represents black and 255 represents white. We can normalize this value to a range between [0,1], where 1 is the color white.\n",
        "\n",
        "The MNIST dataset loaded using TensorFlow is already split into a training set and a test set. The Training set has 60,000 images, while the Test set has 10,000 images.\n",
        "\n",
        "We can load the data as follows:"
      ],
      "metadata": {
        "id": "lqcFqHPj59vl"
      }
    },
    {
      "cell_type": "code",
      "execution_count": 2,
      "metadata": {
        "colab": {
          "base_uri": "https://localhost:8080/"
        },
        "id": "_42bPoXu3DES",
        "outputId": "e09f491d-a82a-46d7-92de-7cf4b17ef893"
      },
      "outputs": [
        {
          "output_type": "stream",
          "name": "stdout",
          "text": [
            "Downloading data from https://storage.googleapis.com/tensorflow/tf-keras-datasets/mnist.npz\n",
            "11490434/11490434 [==============================] - 0s 0us/step\n",
            "Training Images Shape: (60000, 28, 28)\n",
            "Training Labels Shape: (60000,)\n",
            "Test Images Shape: (10000, 28, 28)\n",
            "Test Labels Shape: (10000,)\n"
          ]
        }
      ],
      "source": [
        "# Import TensorFlow\n",
        "import tensorflow as tf\n",
        "\n",
        "# Load the MNIST dataset\n",
        "mnist = tf.keras.datasets.mnist\n",
        "\n",
        "# Load the training and test data\n",
        "(train_images, train_labels), (test_images, test_labels) = mnist.load_data()\n",
        "\n",
        "# Normalize the pixel values to be between 0 and 1\n",
        "train_images, test_images = train_images / 255.0, test_images / 255.0\n",
        "\n",
        "# Check the shape of the data\n",
        "print(\"Training Images Shape:\", train_images.shape)\n",
        "print(\"Training Labels Shape:\", train_labels.shape)\n",
        "print(\"Test Images Shape:\", test_images.shape)\n",
        "print(\"Test Labels Shape:\", test_labels.shape)\n"
      ]
    },
    {
      "cell_type": "markdown",
      "source": [
        "## Preprocess the data\n",
        "\n",
        "In order to analyze the data, we will proceed by converting the images into a 1D Array of elements. The purpose of doing this is to have the image as a vector, and analyze the color of each individual pixel. The Naive Bayes will use this information (for example, given that this vector has a value of 1 in the first position, what is the chance it is the number 1?).\n",
        "\n",
        "Since the images are 28 x 28, the 1D Array or vector will have 784 values, each value representing a pixel of the image."
      ],
      "metadata": {
        "id": "qeYJ0nxZ6Dtk"
      }
    },
    {
      "cell_type": "code",
      "source": [
        "# Reshape the images to 1D arrays (vectors)\n",
        "train_images = train_images.reshape((train_images.shape[0], -1))\n",
        "test_images = test_images.reshape((test_images.shape[0], -1))\n",
        "\n",
        "# Check the new shape of the data\n",
        "print(\"Training Images Shape:\", train_images.shape)\n",
        "print(\"Test Images Shape:\", test_images.shape)\n"
      ],
      "metadata": {
        "colab": {
          "base_uri": "https://localhost:8080/"
        },
        "id": "bVe1Zggo6HNc",
        "outputId": "ba4d1c36-12cd-4d43-d50b-a522bd490286"
      },
      "execution_count": null,
      "outputs": [
        {
          "output_type": "stream",
          "name": "stdout",
          "text": [
            "Training Images Shape: (60000, 784)\n",
            "Test Images Shape: (10000, 784)\n"
          ]
        }
      ]
    },
    {
      "cell_type": "markdown",
      "source": [
        "## Train-Test Split\n",
        "\n",
        "In a normal project, the next step would be to split the data into a training set and a test set. For this case, however, the data is already split when loaded from TensorFlow, so we will continue with training the model."
      ],
      "metadata": {
        "id": "kyZOO4Qd60b6"
      }
    },
    {
      "cell_type": "markdown",
      "source": [
        "## Train the Model\n",
        "\n",
        "We will train the model with the training set already loaded (train_images and train_labels). We will use the GaussianNB, which assumes that the class follows a Gaussian or Normal Distribution.\n",
        "\n",
        "Training the model with the 60,000 images will allow it to detect patterns for each of the images. The model will be given the 1D Arrays or vectors for 60,000 images along its label. This way, it can calculate the conditional probabilities when given a new image (given this 1D Array or vector, what is chance it is X number?)."
      ],
      "metadata": {
        "id": "JZwRAYjh63vI"
      }
    },
    {
      "cell_type": "code",
      "source": [
        "# Import necessary libraries\n",
        "from sklearn.naive_bayes import GaussianNB\n",
        "from sklearn.metrics import accuracy_score\n",
        "\n",
        "# Create an instance of the GaussianNB class\n",
        "model = GaussianNB()\n",
        "\n",
        "# Fit the model to the training data\n",
        "model.fit(train_images, train_labels)\n",
        "\n",
        "# Make predictions on the test data\n",
        "predictions = model.predict(test_images)\n",
        "\n",
        "# Calculate the accuracy of the model\n",
        "accuracy = accuracy_score(test_labels, predictions)\n",
        "print(\"Model Accuracy:\", accuracy)\n",
        "\n"
      ],
      "metadata": {
        "colab": {
          "base_uri": "https://localhost:8080/"
        },
        "id": "xPcSQ-Vl6CwF",
        "outputId": "04452db9-9b99-4230-e17d-e2f7d1dff84c"
      },
      "execution_count": null,
      "outputs": [
        {
          "output_type": "stream",
          "name": "stdout",
          "text": [
            "Model Accuracy: 0.5558\n"
          ]
        }
      ]
    },
    {
      "cell_type": "markdown",
      "source": [
        "Testing the model against the test_images, we obtain an accuracy of 55.58%. This means that the model can accurately classify an image 55.58% of the times. Let´s see some image examples along with the classification of the model:"
      ],
      "metadata": {
        "id": "SxDvOr5JxbO-"
      }
    },
    {
      "cell_type": "markdown",
      "source": [
        "#### Examples:"
      ],
      "metadata": {
        "id": "ViR6Mzns8aX1"
      }
    },
    {
      "cell_type": "code",
      "source": [
        "import numpy as np\n",
        "import matplotlib.pyplot as plt\n",
        "\n",
        "# Number of random samples to display\n",
        "num_samples = 10\n",
        "\n",
        "# Initialize the figure for images and bar plots\n",
        "fig, axes = plt.subplots(2, num_samples, figsize=(15, 6))\n",
        "\n",
        "# Store class probabilities and predicted labels for all samples\n",
        "all_class_probabilities = []\n",
        "all_predicted_labels = []\n",
        "\n",
        "# Loop over the number of samples\n",
        "for i in range(num_samples):\n",
        "    # Randomly choose an index from the test set\n",
        "    random_index = np.random.randint(len(test_images))\n",
        "\n",
        "    # Select the corresponding image and label\n",
        "    selected_image = test_images[random_index].reshape(1, -1)\n",
        "    true_label = test_labels[random_index]\n",
        "\n",
        "    # Use the trained model to predict the class probabilities and label for the selected image\n",
        "    class_probabilities = model.predict_proba(selected_image)\n",
        "    predicted_label = model.predict(selected_image)\n",
        "    all_class_probabilities.append(class_probabilities[0])\n",
        "    all_predicted_labels.append(predicted_label[0])\n",
        "\n",
        "    # Display the selected image\n",
        "    ax = axes[0, i]\n",
        "    ax.imshow(selected_image.reshape(28, 28), cmap='gray')\n",
        "    ax.axis('off')\n",
        "    ax.set_title(f\"True Label: {true_label}\\nModel Label: {predicted_label[0]}\")\n",
        "\n",
        "    # Display the class probabilities as a bar plot\n",
        "    ax = axes[1, i]\n",
        "    ax.bar(range(10), class_probabilities[0])\n",
        "    ax.set_xticks(range(10))\n",
        "    ax.set_ylim(0, 1)\n",
        "    ax.set_ylabel(\"Probability\")\n",
        "    ax.set_xlabel(\"Class\")\n",
        "\n",
        "plt.tight_layout()\n",
        "plt.show()\n",
        "\n",
        "# Initialize the figure for the table\n",
        "fig, ax = plt.subplots(figsize=(15, 1))\n",
        "\n",
        "# Display the class probabilities as a table\n",
        "ax.axis('off')\n",
        "table_data = np.array(all_class_probabilities).T\n",
        "table_data = [[f\"{prob*100:.2f}%\" for prob in row] for row in table_data]\n",
        "table = ax.table(cellText=table_data, rowLabels=range(10), colLabels=[f\"Sample {i+1}\" for i in range(num_samples)], loc='center')\n",
        "table.auto_set_font_size(False)\n",
        "table.set_fontsize(8)\n",
        "table.scale(1, 1.5)\n",
        "\n",
        "plt.show()\n",
        "\n",
        "\n",
        "\n"
      ],
      "metadata": {
        "colab": {
          "base_uri": "https://localhost:8080/",
          "height": 756
        },
        "id": "1643vBCn8bdT",
        "outputId": "3f3828c5-aba6-4154-97cb-8a70cd4bd7b8"
      },
      "execution_count": 1,
      "outputs": [
        {
          "output_type": "error",
          "ename": "NameError",
          "evalue": "ignored",
          "traceback": [
            "\u001b[0;31m---------------------------------------------------------------------------\u001b[0m",
            "\u001b[0;31mNameError\u001b[0m                                 Traceback (most recent call last)",
            "\u001b[0;32m<ipython-input-1-f967407f83d1>\u001b[0m in \u001b[0;36m<cell line: 15>\u001b[0;34m()\u001b[0m\n\u001b[1;32m     15\u001b[0m \u001b[0;32mfor\u001b[0m \u001b[0mi\u001b[0m \u001b[0;32min\u001b[0m \u001b[0mrange\u001b[0m\u001b[0;34m(\u001b[0m\u001b[0mnum_samples\u001b[0m\u001b[0;34m)\u001b[0m\u001b[0;34m:\u001b[0m\u001b[0;34m\u001b[0m\u001b[0;34m\u001b[0m\u001b[0m\n\u001b[1;32m     16\u001b[0m     \u001b[0;31m# Randomly choose an index from the test set\u001b[0m\u001b[0;34m\u001b[0m\u001b[0;34m\u001b[0m\u001b[0m\n\u001b[0;32m---> 17\u001b[0;31m     \u001b[0mrandom_index\u001b[0m \u001b[0;34m=\u001b[0m \u001b[0mnp\u001b[0m\u001b[0;34m.\u001b[0m\u001b[0mrandom\u001b[0m\u001b[0;34m.\u001b[0m\u001b[0mrandint\u001b[0m\u001b[0;34m(\u001b[0m\u001b[0mlen\u001b[0m\u001b[0;34m(\u001b[0m\u001b[0mtest_images\u001b[0m\u001b[0;34m)\u001b[0m\u001b[0;34m)\u001b[0m\u001b[0;34m\u001b[0m\u001b[0;34m\u001b[0m\u001b[0m\n\u001b[0m\u001b[1;32m     18\u001b[0m \u001b[0;34m\u001b[0m\u001b[0m\n\u001b[1;32m     19\u001b[0m     \u001b[0;31m# Select the corresponding image and label\u001b[0m\u001b[0;34m\u001b[0m\u001b[0;34m\u001b[0m\u001b[0m\n",
            "\u001b[0;31mNameError\u001b[0m: name 'test_images' is not defined"
          ]
        },
        {
          "output_type": "display_data",
          "data": {
            "text/plain": [
              "<Figure size 1500x600 with 20 Axes>"
            ],
            "image/png": "[encoded data removed]"
          },
          "metadata": {}
        }
      ]
    },
    {
      "cell_type": "markdown",
      "source": [
        "From this 10 examples it is possible to see that the model misses for several values and accurately classifies some of them."
      ],
      "metadata": {
        "id": "bODtlHvG0tji"
      }
    },
    {
      "cell_type": "markdown",
      "source": [
        "## Evaluate the Model\n",
        "\n",
        "We already know the accuracy of the model, but let´s check for other metrics:"
      ],
      "metadata": {
        "id": "gdNZJSlFNks-"
      }
    },
    {
      "cell_type": "code",
      "source": [
        "import pandas as pd\n",
        "from tabulate import tabulate\n",
        "\n",
        "# Calculate the accuracy of the model\n",
        "accuracy = accuracy_score(test_labels, predictions)\n",
        "print(\"Accuracy:\", accuracy)\n",
        "\n",
        "# Get the classification report as a dictionary\n",
        "report_dict = classification_report(test_labels, predictions, output_dict=True)\n",
        "\n",
        "# Convert the classification report to a DataFrame and then to a pretty table\n",
        "report_df = pd.DataFrame(report_dict).transpose()\n",
        "print(\"Classification Report:\")\n",
        "print(tabulate(report_df, headers='keys', tablefmt='grid'))\n",
        "\n",
        "# Get the confusion matrix and convert it to a pretty table\n",
        "conf_matrix = confusion_matrix(test_labels, predictions)\n",
        "print(\"Confusion Matrix:\")\n",
        "print(tabulate(conf_matrix, tablefmt='grid'))\n",
        "\n",
        "# Create explanation tables\n",
        "classification_report_explanation = [\n",
        "    [\"Precision\", \"The ratio of correctly predicted positive observations to the total predicted positives.\"],\n",
        "    [\"Recall (Sensitivity)\", \"The ratio of correctly predicted positive observations to the all observations in actual class.\"],\n",
        "    [\"F1 Score\", \"The weighted average of Precision and Recall.\"],\n",
        "    [\"Support\", \"The number of actual occurrences of the class in the specified dataset.\"],\n",
        "    [\"Macro Avg\", \"The average of the unweighted mean per label.\"],\n",
        "    [\"Weighted Avg\", \"The average of the weighted mean per label.\"]\n",
        "]\n",
        "\n",
        "\n",
        "\n",
        "print(\"Classification Report Explanation:\")\n",
        "print(tabulate(classification_report_explanation, headers=['Term', 'Explanation'], tablefmt='grid'))\n",
        "\n",
        "\n"
      ],
      "metadata": {
        "colab": {
          "base_uri": "https://localhost:8080/"
        },
        "id": "rfN0oS_-Nmvf",
        "outputId": "65ceb33a-4c60-47d3-cba3-a62359dbb8e6"
      },
      "execution_count": null,
      "outputs": [
        {
          "output_type": "stream",
          "name": "stdout",
          "text": [
            "Accuracy: 0.5558\n",
            "Classification Report:\n",
            "+--------------+-------------+-----------+------------+------------+\n",
            "|              |   precision |    recall |   f1-score |    support |\n",
            "+==============+=============+===========+============+============+\n",
            "| 0            |    0.790191 | 0.887755  |   0.836136 |   980      |\n",
            "+--------------+-------------+-----------+------------+------------+\n",
            "| 1            |    0.845611 | 0.950661  |   0.895064 |  1135      |\n",
            "+--------------+-------------+-----------+------------+------------+\n",
            "| 2            |    0.904762 | 0.257752  |   0.401207 |  1032      |\n",
            "+--------------+-------------+-----------+------------+------------+\n",
            "| 3            |    0.708835 | 0.349505  |   0.46817  |  1010      |\n",
            "+--------------+-------------+-----------+------------+------------+\n",
            "| 4            |    0.884211 | 0.171079  |   0.286689 |   982      |\n",
            "+--------------+-------------+-----------+------------+------------+\n",
            "| 5            |    0.55     | 0.0493274 |   0.090535 |   892      |\n",
            "+--------------+-------------+-----------+------------+------------+\n",
            "| 6            |    0.649964 | 0.934238  |   0.766595 |   958      |\n",
            "+--------------+-------------+-----------+------------+------------+\n",
            "| 7            |    0.877743 | 0.272374  |   0.415739 |  1028      |\n",
            "+--------------+-------------+-----------+------------+------------+\n",
            "| 8            |    0.284211 | 0.665298  |   0.398279 |   974      |\n",
            "+--------------+-------------+-----------+------------+------------+\n",
            "| 9            |    0.369439 | 0.946482  |   0.531441 |  1009      |\n",
            "+--------------+-------------+-----------+------------+------------+\n",
            "| accuracy     |    0.5558   | 0.5558    |   0.5558   |     0.5558 |\n",
            "+--------------+-------------+-----------+------------+------------+\n",
            "| macro avg    |    0.686497 | 0.548447  |   0.508986 | 10000      |\n",
            "+--------------+-------------+-----------+------------+------------+\n",
            "| weighted avg |    0.691726 | 0.5558    |   0.517042 | 10000      |\n",
            "+--------------+-------------+-----------+------------+------------+\n",
            "Confusion Matrix:\n",
            "+-----+------+-----+-----+-----+----+-----+-----+-----+-----+\n",
            "| 870 |    0 |   3 |   5 |   2 |  5 |  31 |   1 |  35 |  28 |\n",
            "+-----+------+-----+-----+-----+----+-----+-----+-----+-----+\n",
            "|   0 | 1079 |   2 |   1 |   0 |  0 |  10 |   0 |  38 |   5 |\n",
            "+-----+------+-----+-----+-----+----+-----+-----+-----+-----+\n",
            "|  79 |   25 | 266 |  91 |   5 |  2 | 269 |   4 | 271 |  20 |\n",
            "+-----+------+-----+-----+-----+----+-----+-----+-----+-----+\n",
            "|  32 |   39 |   6 | 353 |   2 |  3 |  51 |   8 | 409 | 107 |\n",
            "+-----+------+-----+-----+-----+----+-----+-----+-----+-----+\n",
            "|  19 |    2 |   5 |   4 | 168 |  7 |  63 |   7 | 210 | 497 |\n",
            "+-----+------+-----+-----+-----+----+-----+-----+-----+-----+\n",
            "|  71 |   25 |   1 |  20 |   3 | 44 |  40 |   2 | 586 | 100 |\n",
            "+-----+------+-----+-----+-----+----+-----+-----+-----+-----+\n",
            "|  12 |   12 |   3 |   1 |   1 |  7 | 895 |   0 |  26 |   1 |\n",
            "+-----+------+-----+-----+-----+----+-----+-----+-----+-----+\n",
            "|   0 |   15 |   2 |  10 |   5 |  1 |   5 | 280 |  39 | 671 |\n",
            "+-----+------+-----+-----+-----+----+-----+-----+-----+-----+\n",
            "|  13 |   72 |   3 |   7 |   3 | 11 |  12 |   4 | 648 | 201 |\n",
            "+-----+------+-----+-----+-----+----+-----+-----+-----+-----+\n",
            "|   5 |    7 |   3 |   6 |   1 |  0 |   1 |  13 |  18 | 955 |\n",
            "+-----+------+-----+-----+-----+----+-----+-----+-----+-----+\n",
            "Classification Report Explanation:\n",
            "+----------------------+-------------------------------------------------------------------------------------------------+\n",
            "| Term                 | Explanation                                                                                     |\n",
            "+======================+=================================================================================================+\n",
            "| Precision            | The ratio of correctly predicted positive observations to the total predicted positives.        |\n",
            "+----------------------+-------------------------------------------------------------------------------------------------+\n",
            "| Recall (Sensitivity) | The ratio of correctly predicted positive observations to the all observations in actual class. |\n",
            "+----------------------+-------------------------------------------------------------------------------------------------+\n",
            "| F1 Score             | The weighted average of Precision and Recall.                                                   |\n",
            "+----------------------+-------------------------------------------------------------------------------------------------+\n",
            "| Support              | The number of actual occurrences of the class in the specified dataset.                         |\n",
            "+----------------------+-------------------------------------------------------------------------------------------------+\n",
            "| Macro Avg            | The average of the unweighted mean per label.                                                   |\n",
            "+----------------------+-------------------------------------------------------------------------------------------------+\n",
            "| Weighted Avg         | The average of the weighted mean per label.                                                     |\n",
            "+----------------------+-------------------------------------------------------------------------------------------------+\n"
          ]
        }
      ]
    },
    {
      "cell_type": "markdown",
      "source": [
        "####Interpretation:\n",
        "\n",
        "**Class 0:**\n",
        "\n",
        "Precision: 79.02% - Of all instances predicted as class 0, 79.02% are actually class 0.\n",
        "\n",
        "Recall: 88.78% - Of all actual instances of class 0, 88.78% were correctly identified by the model.\n",
        "\n",
        "F1-Score: 83.61% - The harmonic mean of precision and recall, indicating a balance between the two.\n",
        "\n",
        "\n",
        "\n",
        "Macro Avg: The average of the unweighted mean per label.\n",
        "\n",
        "Precision: 68.65%\n",
        "Recall: 54.84%\n",
        "F1-Score: 50.90%\n",
        "Weighted Avg: The average of the weighted mean per label.\n",
        "\n",
        "Precision: 69.17%\n",
        "Recall: 55.58%\n",
        "F1-Score: 51.70%\n",
        "\n",
        "The overall accuracy of the model is 55.58%, which is not very high. The macro and weighted averages also provide insights into the unbalanced performance across different classes. Classes like 2, 5, 8, and 9 are particularly challenging for the model, and improvements are needed for these classes to enhance overall performance.\n",
        "\n",
        "\n",
        "\n",
        "The confusion matrix can be read as follows:\n",
        "\n",
        " ⟹ first row of this matrix corresponds to the digit 0. The first value in this row, 870, represents the True Positive (TP) for the digit 0, meaning 870 instances of 0 were correctly predicted as 0. The rest of the values in this row are the False Negatives (FN) for the digit 0, meaning these instances were 0 but were incorrectly predicted as other digits. For example, 35 instances of 0 were incorrectly predicted as 8.\n",
        "\n",
        " ⟹ The second row corresponds to the digit 1. The value 1079 at the intersection of the second row and the second column is the TP for the digit 1, meaning 1079 instances of 1 were correctly predicted as 1. The rest of the values in this row are the FN for the digit 1.\n",
        "\n",
        " ⟹ Similarly, each subsequent row corresponds to the digits 2 through 9, with the diagonal values representing the TP for each digit, and the off-diagonal values representing the FN.\n",
        "\n",
        " ⟹ Each column represents the instances in an actual class. For example, the first column represents all instances that are actually 0. The value 870 in the first column and the first row is the TP for 0, and the rest of the values in this column are the False Positives (FP) for 0, meaning these instances were not 0 but were incorrectly predicted as 0.\n",
        "\n",
        " ⟹ The last value in the last column and last row, 955, is the TP for the digit 9, meaning 955 instances of 9 were correctly predicted as 9."
      ],
      "metadata": {
        "id": "N8GyYP-NGOt_"
      }
    },
    {
      "cell_type": "code",
      "source": [
        "from sklearn.ensemble import RandomForestClassifier\n",
        "\n",
        "# Create a Random Forest model\n",
        "rf_model = RandomForestClassifier(n_estimators=100, random_state=42)\n",
        "\n",
        "# Train the model\n",
        "rf_model.fit(train_images, train_labels)\n",
        "\n",
        "# Make predictions and calculate accuracy\n",
        "rf_predictions = rf_model.predict(test_images)\n",
        "rf_accuracy = accuracy_score(test_labels, rf_predictions)\n",
        "print(\"Random Forest Model Accuracy:\", rf_accuracy)\n"
      ],
      "metadata": {
        "colab": {
          "base_uri": "https://localhost:8080/"
        },
        "id": "uzXzmf_dF5FY",
        "outputId": "92890d7d-9e93-425a-a778-a3e961827dfd"
      },
      "execution_count": null,
      "outputs": [
        {
          "output_type": "stream",
          "name": "stdout",
          "text": [
            "Random Forest Model Accuracy: 0.9704\n"
          ]
        }
      ]
    },
    {
      "cell_type": "markdown",
      "source": [
        "ejemplos 2"
      ],
      "metadata": {
        "id": "R1eM9OmPGonP"
      }
    },
    {
      "cell_type": "code",
      "source": [
        "import numpy as np\n",
        "import matplotlib.pyplot as plt\n",
        "from sklearn.ensemble import RandomForestClassifier\n",
        "from sklearn.metrics import accuracy_score\n",
        "\n",
        "# Create a Random Forest model\n",
        "rf_model = RandomForestClassifier(n_estimators=100, random_state=42)\n",
        "\n",
        "# Train the model\n",
        "rf_model.fit(train_images, train_labels)\n",
        "\n",
        "# Number of random samples to display\n",
        "num_samples = 5\n",
        "\n",
        "# Loop over the number of samples\n",
        "for _ in range(num_samples):\n",
        "    # Randomly choose an index from the test set\n",
        "    random_index = np.random.randint(len(test_images))\n",
        "\n",
        "    # Select the corresponding image and label\n",
        "    selected_image = test_images[random_index].reshape(1, -1)\n",
        "    true_label = test_labels[random_index]\n",
        "\n",
        "    # Use the trained Random Forest model to predict the class probabilities for the selected image\n",
        "    class_probabilities = rf_model.predict_proba(selected_image)\n",
        "\n",
        "    # Print the true label of the selected image\n",
        "    print(\"True Label:\", true_label)\n",
        "\n",
        "    # Print the class probabilities\n",
        "    print(\"Class Probabilities:\")\n",
        "    for i, prob in enumerate(class_probabilities[0]):\n",
        "        print(f\"{i}: {prob*100:.2f}%\")\n",
        "\n",
        "    # Reshape the selected image back to 28x28 and display it\n",
        "    selected_image_reshaped = selected_image.reshape(28, 28)\n",
        "    plt.imshow(selected_image_reshaped, cmap='gray')\n",
        "    plt.axis('off')\n",
        "    plt.show()\n"
      ],
      "metadata": {
        "colab": {
          "base_uri": "https://localhost:8080/",
          "height": 1000
        },
        "id": "N8fZEae0Gpc4",
        "outputId": "2e6b3c56-f6fa-4850-9f52-a66ac7a809ba"
      },
      "execution_count": null,
      "outputs": [
        {
          "output_type": "stream",
          "name": "stdout",
          "text": [
            "True Label: 2\n",
            "Class Probabilities:\n",
            "0: 0.00%\n",
            "1: 0.00%\n",
            "2: 93.00%\n",
            "3: 1.00%\n",
            "4: 3.00%\n",
            "5: 0.00%\n",
            "6: 1.00%\n",
            "7: 0.00%\n",
            "8: 0.00%\n",
            "9: 2.00%\n"
          ]
        },
        {
          "output_type": "display_data",
          "data": {
            "text/plain": [
              "<Figure size 640x480 with 1 Axes>"
            ],
            "image/png": "[encoded data removed]"
          },
          "metadata": {}
        },
        {
          "output_type": "stream",
          "name": "stdout",
          "text": [
            "True Label: 5\n",
            "Class Probabilities:\n",
            "0: 0.00%\n",
            "1: 0.00%\n",
            "2: 1.00%\n",
            "3: 11.00%\n",
            "4: 4.00%\n",
            "5: 72.00%\n",
            "6: 0.00%\n",
            "7: 3.00%\n",
            "8: 4.00%\n",
            "9: 5.00%\n"
          ]
        },
        {
          "output_type": "display_data",
          "data": {
            "text/plain": [
              "<Figure size 640x480 with 1 Axes>"
            ],
            "image/png": "[encoded data removed]"
          },
          "metadata": {}
        },
        {
          "output_type": "stream",
          "name": "stdout",
          "text": [
            "True Label: 9\n",
            "Class Probabilities:\n",
            "0: 4.00%\n",
            "1: 0.00%\n",
            "2: 7.00%\n",
            "3: 1.00%\n",
            "4: 10.00%\n",
            "5: 3.00%\n",
            "6: 3.00%\n",
            "7: 0.00%\n",
            "8: 4.00%\n",
            "9: 68.00%\n"
          ]
        },
        {
          "output_type": "display_data",
          "data": {
            "text/plain": [
              "<Figure size 640x480 with 1 Axes>"
            ],
            "image/png": "[encoded data removed]"
          },
          "metadata": {}
        },
        {
          "output_type": "stream",
          "name": "stdout",
          "text": [
            "True Label: 3\n",
            "Class Probabilities:\n",
            "0: 2.00%\n",
            "1: 3.00%\n",
            "2: 0.00%\n",
            "3: 54.00%\n",
            "4: 3.00%\n",
            "5: 22.00%\n",
            "6: 2.00%\n",
            "7: 14.00%\n",
            "8: 0.00%\n",
            "9: 0.00%\n"
          ]
        },
        {
          "output_type": "display_data",
          "data": {
            "text/plain": [
              "<Figure size 640x480 with 1 Axes>"
            ],
            "image/png": "[encoded data removed]"
          },
          "metadata": {}
        },
        {
          "output_type": "stream",
          "name": "stdout",
          "text": [
            "True Label: 2\n",
            "Class Probabilities:\n",
            "0: 0.00%\n",
            "1: 2.00%\n",
            "2: 88.00%\n",
            "3: 4.00%\n",
            "4: 1.00%\n",
            "5: 0.00%\n",
            "6: 0.00%\n",
            "7: 3.00%\n",
            "8: 1.00%\n",
            "9: 1.00%\n"
          ]
        },
        {
          "output_type": "display_data",
          "data": {
            "text/plain": [
              "<Figure size 640x480 with 1 Axes>"
            ],
            "image/png": "[encoded data removed]"
          },
          "metadata": {}
        }
      ]
    },
    {
      "cell_type": "markdown",
      "source": [
        "## Creating a New Digit"
      ],
      "metadata": {
        "id": "9cmWxzcDsPg9"
      }
    },
    {
      "cell_type": "code",
      "source": [
        "def generate_digit_image(digit):\n",
        "    # Ensure the input digit is valid\n",
        "    if digit < 0 or digit > 9:\n",
        "        print(\"Invalid digit. Please enter a digit between 0 and 9.\")\n",
        "        return\n",
        "\n",
        "    # Select the encoded points corresponding to the input digit\n",
        "    encoded_digits = x_encoded[train_labels == digit]\n",
        "\n",
        "    # Compute the mean of the encoded points for the input digit\n",
        "    mean_encoded_digit = np.mean(encoded_digits, axis=0)\n",
        "\n",
        "    # Decode the mean encoded point to generate a new image of the digit\n",
        "    generated_image = decoder.predict(mean_encoded_digit.reshape(1, -1)).reshape(28, 28)\n",
        "\n",
        "    # Display the generated image\n",
        "    plt.imshow(generated_image, cmap='gray')\n",
        "    plt.axis('off')\n",
        "    plt.show()\n",
        "\n",
        "# Call the function with the desired digit\n",
        "generate_digit_image(2)\n"
      ],
      "metadata": {
        "colab": {
          "base_uri": "https://localhost:8080/",
          "height": 424
        },
        "id": "ghhGZNiQweS2",
        "outputId": "29cfd5c0-441f-44ec-fd1a-0a72b257e93c"
      },
      "execution_count": null,
      "outputs": [
        {
          "output_type": "stream",
          "name": "stdout",
          "text": [
            "1/1 [==============================] - 0s 88ms/step\n"
          ]
        },
        {
          "output_type": "display_data",
          "data": {
            "text/plain": [
              "<Figure size 640x480 with 1 Axes>"
            ],
            "image/png": "[encoded data removed]"
          },
          "metadata": {}
        }
      ]
    },
    {
      "cell_type": "code",
      "source": [
        "def generate_digit_image(digit):\n",
        "    # Ensure the input digit is valid\n",
        "    if digit < 0 or digit > 9:\n",
        "        print(\"Invalid digit. Please enter a digit between 0 and 9.\")\n",
        "        return None\n",
        "\n",
        "    # Select the encoded points corresponding to the input digit\n",
        "    encoded_digits = x_encoded[train_labels == digit]\n",
        "\n",
        "    # Compute the mean of the encoded points for the input digit\n",
        "    mean_encoded_digit = np.mean(encoded_digits, axis=0)\n",
        "\n",
        "    # Decode the mean encoded point to generate a new image of the digit\n",
        "    generated_image = decoder.predict(mean_encoded_digit.reshape(1, -1)).reshape(28, 28)\n",
        "\n",
        "    return generated_image\n",
        "\n",
        "# Initialize the plot\n",
        "fig, axes = plt.subplots(1, 10, figsize=(15, 1.5))\n",
        "\n",
        "# Generate and display images for each digit from 0 to 9\n",
        "for digit in range(10):\n",
        "    img = generate_digit_image(digit)\n",
        "    ax = axes[digit]\n",
        "    ax.imshow(img, cmap='gray')\n",
        "    ax.axis('off')\n",
        "    ax.set_title(str(digit))\n",
        "\n",
        "plt.tight_layout()\n",
        "plt.show()\n"
      ],
      "metadata": {
        "colab": {
          "base_uri": "https://localhost:8080/",
          "height": 339
        },
        "id": "G2VPh1kQze8q",
        "outputId": "5f0346bd-6db1-40a9-9e7d-90c3f27a3dbe"
      },
      "execution_count": null,
      "outputs": [
        {
          "output_type": "stream",
          "name": "stdout",
          "text": [
            "1/1 [==============================] - 0s 95ms/step\n",
            "1/1 [==============================] - 0s 34ms/step\n",
            "1/1 [==============================] - 0s 89ms/step\n",
            "1/1 [==============================] - 0s 84ms/step\n",
            "1/1 [==============================] - 0s 77ms/step\n",
            "1/1 [==============================] - 0s 50ms/step\n",
            "1/1 [==============================] - 0s 35ms/step\n",
            "1/1 [==============================] - 0s 41ms/step\n",
            "1/1 [==============================] - 0s 78ms/step\n",
            "1/1 [==============================] - 0s 37ms/step\n"
          ]
        },
        {
          "output_type": "display_data",
          "data": {
            "text/plain": [
              "<Figure size 1500x150 with 10 Axes>"
            ],
            "image/png": "[encoded data removed]"
          },
          "metadata": {}
        }
      ]
    }
  ]
}